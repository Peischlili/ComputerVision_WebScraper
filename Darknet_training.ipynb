{
  "nbformat": 4,
  "nbformat_minor": 0,
  "metadata": {
    "colab": {
      "name": "Darknet_training.ipynb",
      "provenance": [],
      "collapsed_sections": [],
      "authorship_tag": "ABX9TyMYI5TCXN/xJg+zKRuSrHeN",
      "include_colab_link": true
    },
    "kernelspec": {
      "name": "python3",
      "display_name": "Python 3"
    },
    "accelerator": "GPU"
  },
  "cells": [
    {
      "cell_type": "markdown",
      "metadata": {
        "id": "view-in-github",
        "colab_type": "text"
      },
      "source": [
        "<a href=\"https://colab.research.google.com/github/Peischlili/ComputerVision_WebScraper/blob/main/Darknet_training.ipynb\" target=\"_parent\"><img src=\"https://colab.research.google.com/assets/colab-badge.svg\" alt=\"Open In Colab\"/></a>"
      ]
    },
    {
      "cell_type": "markdown",
      "metadata": {
        "id": "D2QlCKDO8R2r"
      },
      "source": [
        "<p>1. Connect to Google Drive account</p>\n"
      ]
    },
    {
      "cell_type": "code",
      "metadata": {
        "id": "2zY3esvk6_hE",
        "outputId": "d8b8141a-503d-4d58-e6f3-61bc66f69647",
        "colab": {
          "base_uri": "https://localhost:8080/"
        }
      },
      "source": [
        "from google.colab import drive\n",
        "drive.mount('/content/gdrive')"
      ],
      "execution_count": 1,
      "outputs": [
        {
          "output_type": "stream",
          "text": [
            "Mounted at /content/gdrive\n"
          ],
          "name": "stdout"
        }
      ]
    },
    {
      "cell_type": "markdown",
      "metadata": {
        "id": "e73Ct5qb8gx3"
      },
      "source": [
        "<p>2. Install cdDNN</p>\n"
      ]
    },
    {
      "cell_type": "code",
      "metadata": {
        "id": "ekRoqOqo7t5c",
        "outputId": "1c159a36-bce8-4b9a-de08-6f899ea1d66f",
        "colab": {
          "base_uri": "https://localhost:8080/"
        }
      },
      "source": [
        "!/usr/local/cuda/bin/nvcc --version"
      ],
      "execution_count": 2,
      "outputs": [
        {
          "output_type": "stream",
          "text": [
            "nvcc: NVIDIA (R) Cuda compiler driver\n",
            "Copyright (c) 2005-2019 NVIDIA Corporation\n",
            "Built on Sun_Jul_28_19:07:16_PDT_2019\n",
            "Cuda compilation tools, release 10.1, V10.1.243\n"
          ],
          "name": "stdout"
        }
      ]
    },
    {
      "cell_type": "markdown",
      "metadata": {
        "id": "krQt6MB280aQ"
      },
      "source": [
        "<p>3. Install Darknet in my VM</p>"
      ]
    },
    {
      "cell_type": "code",
      "metadata": {
        "id": "siy6lE3W88Qu",
        "outputId": "b3486abb-0ee1-4dc0-813f-653102e869c4",
        "colab": {
          "base_uri": "https://localhost:8080/"
        }
      },
      "source": [
        "# Change line.no 1 and 2 in ‘Makefile’, set the value to 1. This will enable Darknet to use GPU. commit and push the changes.\n",
        "#clone the repo\n",
        "!git clone https://github.com/Peischlili/darknet.git"
      ],
      "execution_count": 4,
      "outputs": [
        {
          "output_type": "stream",
          "text": [
            "fatal: destination path 'darknet' already exists and is not an empty directory.\n"
          ],
          "name": "stdout"
        }
      ]
    },
    {
      "cell_type": "code",
      "metadata": {
        "id": "_OsxHJkgABpq"
      },
      "source": [
        "# Change line.no 1 and 2 in ‘Makefile’, set the value to 1. This will enable Darknet to use GPU. commit and push the changes."
      ],
      "execution_count": null,
      "outputs": []
    }
  ]
}